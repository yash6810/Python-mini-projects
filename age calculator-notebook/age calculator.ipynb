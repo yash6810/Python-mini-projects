{
 "cells": [
  {
   "cell_type": "code",
   "execution_count": 22,
   "id": "d1ef97a6-ac91-407e-a46a-c81933d8f4e8",
   "metadata": {},
   "outputs": [
    {
     "name": "stdin",
     "output_type": "stream",
     "text": [
      "Enter your birth year:  2005\n",
      "Enter your birth month:  10\n",
      "Enter your birth day: 12\n"
     ]
    },
    {
     "name": "stdout",
     "output_type": "stream",
     "text": [
      "you are 19 years, 8 months, 4 days old.\n"
     ]
    }
   ],
   "source": [
    "from datetime import date \n",
    "def cal_age(birth_date):\n",
    "    today = date.today()\n",
    "    y = today.year - birth_date.year\n",
    "    m = today.month - birth_date.month\n",
    "    d = today.day - birth_date.day\n",
    "\n",
    "    if m < 0 or (m == 0 and d < 0):\n",
    "        y -= 1\n",
    "        m += 12\n",
    "    if d < 0:\n",
    "        m_days = (date(today.year, today.month, 1) - date(today.year, today.month - 1 if today.month > 1 else today.year -1,1)).d\n",
    "        d += m_days\n",
    "        m -= 1\n",
    "    return y,m,d\n",
    "if __name__ == \"__main__\":\n",
    "    b_y = int(input(\"Enter your birth year: \"))\n",
    "    b_m = int(input(\"Enter your birth month: \"))\n",
    "    b_d = int(input(\"Enter your birth day:\"))\n",
    "\n",
    "    b_date = date(b_y, b_m, b_d)\n",
    "    y, m ,d = calculate_age(b_date)\n",
    "\n",
    "    print(f\"you are {y} years, {m} months, {d} days old.\")"
   ]
  },
  {
   "cell_type": "code",
   "execution_count": null,
   "id": "ba496197-e7e2-46f7-afa2-10b915df2a07",
   "metadata": {},
   "outputs": [],
   "source": []
  }
 ],
 "metadata": {
  "kernelspec": {
   "display_name": "Python 3 (ipykernel)",
   "language": "python",
   "name": "python3"
  },
  "language_info": {
   "codemirror_mode": {
    "name": "ipython",
    "version": 3
   },
   "file_extension": ".py",
   "mimetype": "text/x-python",
   "name": "python",
   "nbconvert_exporter": "python",
   "pygments_lexer": "ipython3",
   "version": "3.12.7"
  }
 },
 "nbformat": 4,
 "nbformat_minor": 5
}
