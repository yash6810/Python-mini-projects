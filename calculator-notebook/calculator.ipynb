{
 "cells": [
  {
   "cell_type": "code",
   "execution_count": null,
   "id": "c30dc7fc-f6ea-489a-a8a9-8bb3c8921bca",
   "metadata": {},
   "outputs": [
    {
     "name": "stdout",
     "output_type": "stream",
     "text": [
      "Print select operation -\n",
      "1. Add\n",
      "2. Subtract\n",
      "3. Mulitpication\n",
      "4. Division\n",
      "\n"
     ]
    }
   ],
   "source": [
    "def add(n1,n2):\n",
    "    return n1+n2\n",
    "def sub(n1,n2):\n",
    "    return n1-n2\n",
    "def mul(n1,n2):\n",
    "    return n1*n2\n",
    "def div(n1,n2):\n",
    "    return n1/n2\n",
    "print(\"Print select operation -\\n\"\n",
    "      \"1. Add\\n\"\n",
    "      \"2. Subtract\\n\"\n",
    "      \"3. Mulitpication\\n\"\n",
    "      \"4. Division\\n\")\n",
    "select = int(input(\"Enter your operation (1-4): \"))\n",
    "\n",
    "n1 = int(input(\"Enter your first number: \"))\n",
    "n2 = int(input(\"Enter your second number: \"))\n",
    "\n",
    "if select == 1:\n",
    "    print(n1, \"+\", n2, \"=\", add(n1,n2))\n",
    "elif select == 2:\n",
    "    print(n1, \"-\", n2, \"=\", sub(n1,n2))\n",
    "elif select == 3:\n",
    "    print(n1, \"*\", n2, \"=\", mul(n1,n2))\n",
    "elif select == 4:\n",
    "    print(n1, \"/\", n2, \"=\", div(n1,n2))\n",
    "else:\n",
    "    print(\"Invalid Input\")"
   ]
  },
  {
   "cell_type": "code",
   "execution_count": null,
   "id": "25dabc14-e63a-43a4-a0d8-93ebe57f2fb3",
   "metadata": {},
   "outputs": [],
   "source": []
  }
 ],
 "metadata": {
  "kernelspec": {
   "display_name": "Python 3 (ipykernel)",
   "language": "python",
   "name": "python3"
  },
  "language_info": {
   "codemirror_mode": {
    "name": "ipython",
    "version": 3
   },
   "file_extension": ".py",
   "mimetype": "text/x-python",
   "name": "python",
   "nbconvert_exporter": "python",
   "pygments_lexer": "ipython3",
   "version": "3.12.7"
  }
 },
 "nbformat": 4,
 "nbformat_minor": 5
}
